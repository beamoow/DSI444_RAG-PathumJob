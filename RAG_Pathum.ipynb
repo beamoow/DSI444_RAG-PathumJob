{
  "cells": [
    {
      "cell_type": "markdown",
      "metadata": {
        "id": "uHyrA_CIXr9b"
      },
      "source": [
        "# `RAG` with `GraphDB` `{KG}`\n",
        "* *Author* : [Dr. Akkharawoot TAKHOM](https://ece.engr.tu.ac.th/lecturer/profile/akkharawoot-takhom); and Tharathon Utasri (TA)\n",
        "* *Email*: `takkhara@engr.tu.ac.th`\n",
        "* *Affiliation* : Faculty of Engineering,\n",
        "Thammasat School of Engineering (TSE),\n",
        "Thammasat University (TU), Thailand\n",
        "* *Updated Date* : 22-November-2024\n",
        "* Python's Libraries and Versions\n",
        "  1. `LangChain`’s flexible abstractions and AI-first toolkit  https://www.langchain.com/\n",
        "  2. `Neo4j` Aura https://console.neo4j.io/\n",
        "  3. wikipedia\n",
        "  4. tiktoken\n",
        "  5. yfiles_jupyter_graphs\n",
        "---\n",
        "**References:**\n",
        "  * RDFLibs, https://github.com/RDFLib/rdflib, https://rdflib.readthedocs.io/\n",
        "  * OWL-RL, https://owl-rl.readthedocs.io/\n",
        "  * SPARQLWrapper, https://rdflib.dev/sparqlwrapper/\n",
        "---\n",
        "  <a rel=\"license\" href=\"http://creativecommons.org/licenses/by-nc-sa/4.0/\"><img alt=\"Creative Commons License\" style=\"border-width:0\" src=\"https://i.creativecommons.org/l/by-nc-sa/4.0/88x31.png\" /></a><br />This work is licensed under a <a rel=\"license\" href=\"http://creativecommons.org/licenses/by-nc-sa/4.0/\">Creative Commons Attribution-NonCommercial-ShareAlike 4.0 International License</a>."
      ]
    },
    {
      "cell_type": "markdown",
      "metadata": {
        "id": "loaqiv8ai4sA"
      },
      "source": [
        "##Install Langchain"
      ]
    },
    {
      "cell_type": "code",
      "execution_count": null,
      "metadata": {
        "colab": {
          "base_uri": "https://localhost:8080/"
        },
        "id": "5x3LkpUztHNU",
        "outputId": "d3aeae57-f734-4f9b-f81a-95f8e02c96c9",
        "collapsed": true
      },
      "outputs": [
        {
          "name": "stdout",
          "output_type": "stream",
          "text": [
            "  Preparing metadata (setup.py) ... \u001b[?25l\u001b[?25hdone\n",
            "\u001b[2K   \u001b[90m━━━━━━━━━━━━━━━━━━━━━━━━━━━━━━━━━━━━━━━━\u001b[0m \u001b[32m1.0/1.0 MB\u001b[0m \u001b[31m13.4 MB/s\u001b[0m eta \u001b[36m0:00:00\u001b[0m\n",
            "\u001b[2K   \u001b[90m━━━━━━━━━━━━━━━━━━━━━━━━━━━━━━━━━━━━━━━━\u001b[0m \u001b[32m2.4/2.4 MB\u001b[0m \u001b[31m51.7 MB/s\u001b[0m eta \u001b[36m0:00:00\u001b[0m\n",
            "\u001b[2K   \u001b[90m━━━━━━━━━━━━━━━━━━━━━━━━━━━━━━━━━━━━━━━━\u001b[0m \u001b[32m209.0/209.0 kB\u001b[0m \u001b[31m18.1 MB/s\u001b[0m eta \u001b[36m0:00:00\u001b[0m\n",
            "\u001b[2K   \u001b[90m━━━━━━━━━━━━━━━━━━━━━━━━━━━━━━━━━━━━━━━━\u001b[0m \u001b[32m302.0/302.0 kB\u001b[0m \u001b[31m16.6 MB/s\u001b[0m eta \u001b[36m0:00:00\u001b[0m\n",
            "\u001b[2K   \u001b[90m━━━━━━━━━━━━━━━━━━━━━━━━━━━━━━━━━━━━━━━━\u001b[0m \u001b[32m1.2/1.2 MB\u001b[0m \u001b[31m36.3 MB/s\u001b[0m eta \u001b[36m0:00:00\u001b[0m\n",
            "\u001b[2K   \u001b[90m━━━━━━━━━━━━━━━━━━━━━━━━━━━━━━━━━━━━━━━━\u001b[0m \u001b[32m15.5/15.5 MB\u001b[0m \u001b[31m55.5 MB/s\u001b[0m eta \u001b[36m0:00:00\u001b[0m\n",
            "\u001b[2K   \u001b[90m━━━━━━━━━━━━━━━━━━━━━━━━━━━━━━━━━━━━━━━━\u001b[0m \u001b[32m139.8/139.8 kB\u001b[0m \u001b[31m13.5 MB/s\u001b[0m eta \u001b[36m0:00:00\u001b[0m\n",
            "\u001b[2K   \u001b[90m━━━━━━━━━━━━━━━━━━━━━━━━━━━━━━━━━━━━━━━━\u001b[0m \u001b[32m409.5/409.5 kB\u001b[0m \u001b[31m33.1 MB/s\u001b[0m eta \u001b[36m0:00:00\u001b[0m\n",
            "\u001b[2K   \u001b[90m━━━━━━━━━━━━━━━━━━━━━━━━━━━━━━━━━━━━━━━━\u001b[0m \u001b[32m3.1/3.1 MB\u001b[0m \u001b[31m31.4 MB/s\u001b[0m eta \u001b[36m0:00:00\u001b[0m\n",
            "\u001b[2K   \u001b[90m━━━━━━━━━━━━━━━━━━━━━━━━━━━━━━━━━━━━━━━━\u001b[0m \u001b[32m49.5/49.5 kB\u001b[0m \u001b[31m4.7 MB/s\u001b[0m eta \u001b[36m0:00:00\u001b[0m\n",
            "\u001b[2K   \u001b[90m━━━━━━━━━━━━━━━━━━━━━━━━━━━━━━━━━━━━━━━━\u001b[0m \u001b[32m2.3/2.3 MB\u001b[0m \u001b[31m76.8 MB/s\u001b[0m eta \u001b[36m0:00:00\u001b[0m\n",
            "\u001b[2K   \u001b[90m━━━━━━━━━━━━━━━━━━━━━━━━━━━━━━━━━━━━━━━━\u001b[0m \u001b[32m1.6/1.6 MB\u001b[0m \u001b[31m71.5 MB/s\u001b[0m eta \u001b[36m0:00:00\u001b[0m\n",
            "\u001b[?25h  Building wheel for wikipedia (setup.py) ... \u001b[?25l\u001b[?25hdone\n"
          ]
        }
      ],
      "source": [
        "%pip install --upgrade --quiet  langchain langchain-community langchain-huggingface langchain-experimental neo4j wikipedia tiktoken yfiles_jupyter_graphs"
      ]
    },
    {
      "cell_type": "markdown",
      "metadata": {
        "id": "1NAvThpEi0I2"
      },
      "source": [
        "##Install Hugging face hub for LLMs Models"
      ]
    },
    {
      "cell_type": "code",
      "execution_count": null,
      "metadata": {
        "colab": {
          "base_uri": "https://localhost:8080/"
        },
        "id": "sco9sGdCiyJg",
        "outputId": "b770ec46-6919-4864-d036-facc3d539310",
        "collapsed": true
      },
      "outputs": [
        {
          "name": "stdout",
          "output_type": "stream",
          "text": [
            "\u001b[2K     \u001b[90m━━━━━━━━━━━━━━━━━━━━━━━━━━━━━━━━━━━━━━━━\u001b[0m \u001b[32m44.1/44.1 kB\u001b[0m \u001b[31m1.7 MB/s\u001b[0m eta \u001b[36m0:00:00\u001b[0m\n",
            "\u001b[2K   \u001b[90m━━━━━━━━━━━━━━━━━━━━━━━━━━━━━━━━━━━━━━━━\u001b[0m \u001b[32m10.0/10.0 MB\u001b[0m \u001b[31m58.3 MB/s\u001b[0m eta \u001b[36m0:00:00\u001b[0m\n",
            "\u001b[2K   \u001b[90m━━━━━━━━━━━━━━━━━━━━━━━━━━━━━━━━━━━━━━━━\u001b[0m \u001b[32m268.8/268.8 kB\u001b[0m \u001b[31m22.3 MB/s\u001b[0m eta \u001b[36m0:00:00\u001b[0m\n",
            "\u001b[?25h"
          ]
        }
      ],
      "source": [
        "!pip install -qU transformers sentence-transformers huggingface_hub json-repair"
      ]
    },
    {
      "cell_type": "code",
      "execution_count": null,
      "metadata": {
        "colab": {
          "base_uri": "https://localhost:8080/"
        },
        "id": "N1pLIDPT6kKi",
        "outputId": "cd790bb8-1912-48dd-b0e0-ffe97ca8f227",
        "collapsed": true
      },
      "outputs": [
        {
          "name": "stdout",
          "output_type": "stream",
          "text": [
            "Collecting rdflib\n",
            "  Downloading rdflib-7.1.1-py3-none-any.whl.metadata (11 kB)\n",
            "Collecting isodate<1.0.0,>=0.7.2 (from rdflib)\n",
            "  Downloading isodate-0.7.2-py3-none-any.whl.metadata (11 kB)\n",
            "Requirement already satisfied: pyparsing<4,>=2.1.0 in /usr/local/lib/python3.10/dist-packages (from rdflib) (3.2.0)\n",
            "Downloading rdflib-7.1.1-py3-none-any.whl (562 kB)\n",
            "\u001b[2K   \u001b[90m━━━━━━━━━━━━━━━━━━━━━━━━━━━━━━━━━━━━━━━━\u001b[0m \u001b[32m562.4/562.4 kB\u001b[0m \u001b[31m7.4 MB/s\u001b[0m eta \u001b[36m0:00:00\u001b[0m\n",
            "\u001b[?25hDownloading isodate-0.7.2-py3-none-any.whl (22 kB)\n",
            "Installing collected packages: isodate, rdflib\n",
            "Successfully installed isodate-0.7.2 rdflib-7.1.1\n"
          ]
        }
      ],
      "source": [
        "!pip install rdflib"
      ]
    },
    {
      "cell_type": "code",
      "execution_count": null,
      "metadata": {
        "colab": {
          "base_uri": "https://localhost:8080/"
        },
        "id": "QPI1Jups6svz",
        "outputId": "2f4f32c8-d5a5-4886-cc60-e513a4f4de42",
        "collapsed": true
      },
      "outputs": [
        {
          "name": "stdout",
          "output_type": "stream",
          "text": [
            "Collecting py2neo\n",
            "  Downloading py2neo-2021.2.4-py2.py3-none-any.whl.metadata (9.9 kB)\n",
            "Requirement already satisfied: certifi in /usr/local/lib/python3.10/dist-packages (from py2neo) (2024.8.30)\n",
            "Collecting interchange~=2021.0.4 (from py2neo)\n",
            "  Downloading interchange-2021.0.4-py2.py3-none-any.whl.metadata (1.9 kB)\n",
            "Collecting monotonic (from py2neo)\n",
            "  Downloading monotonic-1.6-py2.py3-none-any.whl.metadata (1.5 kB)\n",
            "Requirement already satisfied: packaging in /usr/local/lib/python3.10/dist-packages (from py2neo) (24.2)\n",
            "Collecting pansi>=2020.7.3 (from py2neo)\n",
            "  Downloading pansi-2024.11.0-py2.py3-none-any.whl.metadata (3.1 kB)\n",
            "Requirement already satisfied: pygments>=2.0.0 in /usr/local/lib/python3.10/dist-packages (from py2neo) (2.18.0)\n",
            "Requirement already satisfied: six>=1.15.0 in /usr/local/lib/python3.10/dist-packages (from py2neo) (1.16.0)\n",
            "Requirement already satisfied: urllib3 in /usr/local/lib/python3.10/dist-packages (from py2neo) (2.2.3)\n",
            "Requirement already satisfied: pytz in /usr/local/lib/python3.10/dist-packages (from interchange~=2021.0.4->py2neo) (2024.2)\n",
            "Requirement already satisfied: pillow in /usr/local/lib/python3.10/dist-packages (from pansi>=2020.7.3->py2neo) (11.0.0)\n",
            "Downloading py2neo-2021.2.4-py2.py3-none-any.whl (177 kB)\n",
            "\u001b[2K   \u001b[90m━━━━━━━━━━━━━━━━━━━━━━━━━━━━━━━━━━━━━━━━\u001b[0m \u001b[32m177.2/177.2 kB\u001b[0m \u001b[31m3.3 MB/s\u001b[0m eta \u001b[36m0:00:00\u001b[0m\n",
            "\u001b[?25hDownloading interchange-2021.0.4-py2.py3-none-any.whl (28 kB)\n",
            "Downloading pansi-2024.11.0-py2.py3-none-any.whl (26 kB)\n",
            "Downloading monotonic-1.6-py2.py3-none-any.whl (8.2 kB)\n",
            "Installing collected packages: monotonic, pansi, interchange, py2neo\n",
            "Successfully installed interchange-2021.0.4 monotonic-1.6 pansi-2024.11.0 py2neo-2021.2.4\n"
          ]
        }
      ],
      "source": [
        "!pip install py2neo"
      ]
    },
    {
      "cell_type": "code",
      "execution_count": null,
      "metadata": {
        "colab": {
          "base_uri": "https://localhost:8080/"
        },
        "id": "PFpGDpnr60Gr",
        "outputId": "a10064ae-2d32-4727-ba83-0f0e3d735a2b",
        "collapsed": true
      },
      "outputs": [
        {
          "name": "stdout",
          "output_type": "stream",
          "text": [
            "Collecting PYPDF2\n",
            "  Downloading pypdf2-3.0.1-py3-none-any.whl.metadata (6.8 kB)\n",
            "Downloading pypdf2-3.0.1-py3-none-any.whl (232 kB)\n",
            "\u001b[?25l   \u001b[90m━━━━━━━━━━━━━━━━━━━━━━━━━━━━━━━━━━━━━━━━\u001b[0m \u001b[32m0.0/232.6 kB\u001b[0m \u001b[31m?\u001b[0m eta \u001b[36m-:--:--\u001b[0m\r\u001b[2K   \u001b[91m━━━━━━━━━━━━\u001b[0m\u001b[90m╺\u001b[0m\u001b[90m━━━━━━━━━━━━━━━━━━━━━━━━━━━\u001b[0m \u001b[32m71.7/232.6 kB\u001b[0m \u001b[31m2.4 MB/s\u001b[0m eta \u001b[36m0:00:01\u001b[0m\r\u001b[2K   \u001b[91m━━━━━━━━━━━━━━━━━━━━━━━━━━━━━━━━━━━━━━\u001b[0m\u001b[91m╸\u001b[0m\u001b[90m━\u001b[0m \u001b[32m225.3/232.6 kB\u001b[0m \u001b[31m3.9 MB/s\u001b[0m eta \u001b[36m0:00:01\u001b[0m\r\u001b[2K   \u001b[90m━━━━━━━━━━━━━━━━━━━━━━━━━━━━━━━━━━━━━━━━\u001b[0m \u001b[32m232.6/232.6 kB\u001b[0m \u001b[31m2.9 MB/s\u001b[0m eta \u001b[36m0:00:00\u001b[0m\n",
            "\u001b[?25hInstalling collected packages: PYPDF2\n",
            "Successfully installed PYPDF2-3.0.1\n"
          ]
        }
      ],
      "source": [
        "pip install PYPDF2"
      ]
    },
    {
      "cell_type": "code",
      "execution_count": null,
      "metadata": {
        "colab": {
          "base_uri": "https://localhost:8080/"
        },
        "id": "e0btJU977RbD",
        "outputId": "3dbd4110-6de6-4bcf-b3d4-b8834dc4eb82",
        "collapsed": true
      },
      "outputs": [
        {
          "name": "stdout",
          "output_type": "stream",
          "text": [
            "Collecting pythainlp\n",
            "  Downloading pythainlp-5.0.4-py3-none-any.whl.metadata (7.7 kB)\n",
            "Requirement already satisfied: requests>=2.22.0 in /usr/local/lib/python3.10/dist-packages (from pythainlp) (2.32.3)\n",
            "Requirement already satisfied: charset-normalizer<4,>=2 in /usr/local/lib/python3.10/dist-packages (from requests>=2.22.0->pythainlp) (3.4.0)\n",
            "Requirement already satisfied: idna<4,>=2.5 in /usr/local/lib/python3.10/dist-packages (from requests>=2.22.0->pythainlp) (3.10)\n",
            "Requirement already satisfied: urllib3<3,>=1.21.1 in /usr/local/lib/python3.10/dist-packages (from requests>=2.22.0->pythainlp) (2.2.3)\n",
            "Requirement already satisfied: certifi>=2017.4.17 in /usr/local/lib/python3.10/dist-packages (from requests>=2.22.0->pythainlp) (2024.8.30)\n",
            "Downloading pythainlp-5.0.4-py3-none-any.whl (17.9 MB)\n",
            "\u001b[2K   \u001b[90m━━━━━━━━━━━━━━━━━━━━━━━━━━━━━━━━━━━━━━━━\u001b[0m \u001b[32m17.9/17.9 MB\u001b[0m \u001b[31m85.7 MB/s\u001b[0m eta \u001b[36m0:00:00\u001b[0m\n",
            "\u001b[?25hInstalling collected packages: pythainlp\n",
            "Successfully installed pythainlp-5.0.4\n"
          ]
        }
      ],
      "source": [
        "pip install pythainlp"
      ]
    },
    {
      "cell_type": "markdown",
      "metadata": {
        "id": "Rk1LHkxYi9ON"
      },
      "source": [
        "##Import Langchain"
      ]
    },
    {
      "cell_type": "code",
      "execution_count": null,
      "metadata": {
        "colab": {
          "base_uri": "https://localhost:8080/"
        },
        "id": "7UhsGjMi12hZ",
        "outputId": "73854295-9035-4f6d-e499-54e43acbbad0"
      },
      "outputs": [
        {
          "output_type": "stream",
          "name": "stdout",
          "text": [
            "Mounted at /content/drive\n"
          ]
        }
      ],
      "source": [
        "from google.colab import drive\n",
        "drive.mount('/content/drive')"
      ]
    },
    {
      "cell_type": "code",
      "execution_count": null,
      "metadata": {
        "id": "jPIRSGz4tHNV"
      },
      "outputs": [],
      "source": [
        "from langchain_core.runnables import (\n",
        "    RunnableBranch,\n",
        "    RunnableLambda,\n",
        "    RunnableParallel,\n",
        "    RunnablePassthrough,\n",
        ")\n",
        "\n",
        "from langchain_core.prompts import ChatPromptTemplate\n",
        "from langchain_core.prompts.prompt import PromptTemplate\n",
        "from langchain_core.pydantic_v1 import BaseModel, Field\n",
        "from typing import Tuple, List, Optional\n",
        "from langchain_core.messages import AIMessage, HumanMessage\n",
        "from langchain_core.output_parsers import StrOutputParser\n",
        "\n",
        "import os\n",
        "\n",
        "from langchain_community.graphs import Neo4jGraph\n",
        "from langchain.document_loaders import WikipediaLoader\n",
        "from langchain.text_splitter import TokenTextSplitter\n",
        "from langchain_experimental.graph_transformers import LLMGraphTransformer\n",
        "\n",
        "from neo4j import GraphDatabase\n",
        "\n",
        "from yfiles_jupyter_graphs import GraphWidget\n",
        "from langchain_community.vectorstores import Neo4jVector\n",
        "from langchain_community.vectorstores.neo4j_vector import remove_lucene_chars\n",
        "from langchain_core.runnables import ConfigurableField, RunnableParallel, RunnablePassthrough\n",
        "\n",
        "from langchain_huggingface import HuggingFaceEmbeddings\n",
        "\n",
        "try:\n",
        "  import google.colab\n",
        "  from google.colab import output\n",
        "  output.enable_custom_widget_manager()\n",
        "except:\n",
        "  pass\n",
        "\n",
        "import requests\n",
        "import pandas as pd\n",
        "import time\n",
        "import rdflib\n",
        "import openai\n",
        "import spacy\n",
        "from rdflib import Graph, URIRef, Literal, Namespace\n",
        "from py2neo import Graph as NeoGraph, ConnectionUnavailable, ServiceUnavailable, ClientError\n",
        "from py2neo import Node, Relationship\n",
        "from transformers import pipeline\n",
        "from langchain.llms import OpenAI\n",
        "from langchain.chains import RetrievalQA\n",
        "#from langchain.vectorstores import Neo4jVectorSearch\n",
        "import PyPDF2\n",
        "import pythainlp\n",
        "from pythainlp.tokenize import word_tokenize, sent_tokenize\n",
        "import numpy as np\n",
        "from sklearn.metrics import precision_score, recall_score, f1_score\n",
        "from requests.adapters import HTTPAdapter\n",
        "from urllib3.util.retry import Retry"
      ]
    },
    {
      "cell_type": "markdown",
      "metadata": {
        "id": "-KeAfaMQ0VKh"
      },
      "source": [
        "## Neo4j Environment Setup\n",
        "\n",
        "[Neo4j Aura](https://neo4j.com/cloud/platform/aura-graph-database/)"
      ]
    },
    {
      "cell_type": "markdown",
      "source": [
        "เนื่องจาก Access Token ของ HuggingFace เป็นความลับ จึงไม่สามารถเผยแพร่อัพโหลดไฟล์แสดงบน Github ได้"
      ],
      "metadata": {
        "id": "TQKG603TSoX2"
      }
    },
    {
      "cell_type": "markdown",
      "metadata": {
        "id": "dcRaV44OjEM1"
      },
      "source": [
        "##Try LLaMa3.2 with Langchain\n",
        "\n",
        "https://huggingface.co/meta-llama/Llama-3.2-3B-Instruct"
      ]
    },
    {
      "cell_type": "code",
      "execution_count": null,
      "metadata": {
        "id": "dhNcVqG5jAU4"
      },
      "outputs": [],
      "source": [
        "from langchain import HuggingFaceHub, LLMChain\n",
        "from langchain_core.prompts import ChatPromptTemplate, PromptTemplate\n",
        "from langchain_core.messages import SystemMessage\n",
        "from langchain_core.prompts import HumanMessagePromptTemplate\n",
        "import torch\n",
        "\n",
        "# initialize HF LLM\n",
        "llama = HuggingFaceHub(\n",
        "    repo_id=\"meta-llama/Llama-3.2-3B-Instruct\",\n",
        "    model_kwargs={\"temperature\":0.8, 'top_p':0.9, 'max_new_tokens':512,\n",
        "                  \"return_full_text\":False,\n",
        "                  }\n",
        ")\n",
        "\n",
        "prompt_template = PromptTemplate(\n",
        "    template=\"\"\"\n",
        "    Question: [INST]{question}[/INST]\n",
        "    Answer:\n",
        "    \"\"\"\n",
        ")\n",
        "\n",
        "llm_chain = LLMChain(\n",
        "    prompt=prompt_template,\n",
        "    llm=llama\n",
        ")"
      ]
    },
    {
      "cell_type": "markdown",
      "metadata": {
        "id": "13kCycOiW9f6"
      },
      "source": [
        "#Base RAG"
      ]
    },
    {
      "cell_type": "markdown",
      "metadata": {
        "id": "Y2U6Uq4hbvPO"
      },
      "source": [
        "##Create Graph Vector store with Neo4j"
      ]
    },
    {
      "cell_type": "code",
      "execution_count": null,
      "metadata": {
        "id": "a8i6MRmtbrR0",
        "collapsed": true
      },
      "outputs": [],
      "source": [
        "graph = Neo4jGraph(url=os.environ[\"NEO4J_URI\"],\n",
        "                   username=os.environ[\"NEO4J_USERNAME\"],\n",
        "                   password=os.environ[\"NEO4J_PASSWORD\"]\n",
        ")"
      ]
    },
    {
      "cell_type": "markdown",
      "metadata": {
        "id": "lmx89rEFbHZd"
      },
      "source": [
        "##Transform Document chunk into Graph"
      ]
    },
    {
      "cell_type": "markdown",
      "metadata": {
        "id": "_FuzaF-gb2rl"
      },
      "source": [
        "##Embedding Vector from Graph in Neo4j"
      ]
    },
    {
      "cell_type": "code",
      "execution_count": null,
      "metadata": {
        "id": "bpgm_vQNEnv1"
      },
      "outputs": [],
      "source": [
        "embeddings = HuggingFaceEmbeddings(model_name=\"sentence-transformers/all-mpnet-base-v2\")"
      ]
    },
    {
      "cell_type": "code",
      "execution_count": null,
      "metadata": {
        "id": "l5f0knRuBsgB"
      },
      "outputs": [],
      "source": [
        "llm_transformer = LLMGraphTransformer(llm=llama)\n",
        "\n",
        "vector_index = Neo4jVector.from_existing_graph(\n",
        "    embeddings,\n",
        "    url=os.environ[\"NEO4J_URI\"],\n",
        "    username=os.environ[\"NEO4J_USERNAME\"],\n",
        "    password=os.environ[\"NEO4J_PASSWORD\"],\n",
        "    node_label=\"Document\",\n",
        "    text_node_properties=[\"title\",\"text\"],\n",
        "    embedding_node_property=\"embedding\",\n",
        ")"
      ]
    },
    {
      "cell_type": "markdown",
      "metadata": {
        "id": "bsqdDrM1cA2h"
      },
      "source": [
        "##Create QA with Base-RAG from vector stored in Neo4j"
      ]
    },
    {
      "cell_type": "code",
      "execution_count": null,
      "metadata": {
        "id": "TlDrAvz1_pN5"
      },
      "outputs": [],
      "source": [
        "from langchain.chains import RetrievalQA"
      ]
    },
    {
      "cell_type": "code",
      "execution_count": null,
      "metadata": {
        "id": "CYrVdZjt_sMW"
      },
      "outputs": [],
      "source": [
        "vector_qa = RetrievalQA.from_chain_type(llm=llama, chain_type=\"stuff\", retriever=vector_index.as_retriever())"
      ]
    },
    {
      "cell_type": "code",
      "source": [
        "r = vector_qa.invoke(\n",
        "    {\n",
        "       \"query\": \"What occupation is interesting to do in Pathum Thani these days?\"\n",
        "    }\n",
        ")\n",
        "print(r[\"result\"])"
      ],
      "metadata": {
        "id": "Dqyw2iG8-dbl"
      },
      "execution_count": null,
      "outputs": []
    },
    {
      "cell_type": "code",
      "execution_count": null,
      "metadata": {
        "id": "we-y4iJXtqsh"
      },
      "outputs": [],
      "source": [
        "r = vector_qa.invoke(\n",
        "    {\n",
        "       \"query\": \"ฉันมีงานอดิเรกที่ชื่นชอบคือการปลูกผัก ควรทำอาชีพอะไรดีในปทุมธานี\"\n",
        "    }\n",
        ")\n",
        "print(r[\"result\"])"
      ]
    },
    {
      "cell_type": "markdown",
      "metadata": {
        "id": "gjIyjjsyXFlQ"
      },
      "source": [
        "#RAG with Knowledge Graph (Triple)"
      ]
    },
    {
      "cell_type": "markdown",
      "metadata": {
        "id": "smLM2VHpcOW9"
      },
      "source": [
        "##Create Schema for LLMs to Generate Cypher Query"
      ]
    },
    {
      "cell_type": "code",
      "execution_count": null,
      "metadata": {
        "id": "CA8Yo11rOpgE"
      },
      "outputs": [],
      "source": [
        "graph.refresh_schema()"
      ]
    },
    {
      "cell_type": "code",
      "execution_count": null,
      "metadata": {
        "colab": {
          "base_uri": "https://localhost:8080/"
        },
        "id": "maEcUgw-PkNU",
        "outputId": "f47d88c1-dbcd-4cf5-f6b2-0ff5e9468c37"
      },
      "outputs": [
        {
          "name": "stdout",
          "output_type": "stream",
          "text": [
            "Node properties:\n",
            "Document {id: STRING, text: STRING, embedding: LIST, summary: STRING, source: STRING, title: STRING}\n",
            "Occupation {name: STRING, description_en: STRING, description_th: STRING}\n",
            "Skill {name: STRING, value: STRING}\n",
            "Label {name: STRING}\n",
            "Description {value: STRING}\n",
            "Type {value: STRING}\n",
            "Income {value: STRING}\n",
            "Province {value: STRING}\n",
            "Location {id: STRING}\n",
            "Country {id: STRING}\n",
            "Institution {id: STRING}\n",
            "Continent {id: STRING}\n",
            "Relationship properties:\n",
            "HAS_SKILL {language: STRING}\n",
            "The relationships:\n",
            "(:Document)-[:MENTIONS]->(:Location)\n",
            "(:Document)-[:MENTIONS]->(:Country)\n",
            "(:Document)-[:MENTIONS]->(:Institution)\n",
            "(:Document)-[:MENTIONS]->(:Continent)\n",
            "(:Occupation)-[:HAS_SKILL]->(:Skill)\n",
            "(:Occupation)-[:hasDescription]->(:Description)\n",
            "(:Occupation)-[:isIn]->(:Province)\n",
            "(:Occupation)-[:hasSkill]->(:Skill)\n",
            "(:Occupation)-[:hasIncome]->(:Income)\n",
            "(:Label)-[:hasDescription]->(:Description)\n",
            "(:Label)-[:isA]->(:Type)\n",
            "(:Location)-[:LOCATED_IN]->(:Country)\n",
            "(:Country)-[:LOCATED_IN]->(:Continent)\n",
            "(:Institution)-[:LOCATED_IN]->(:Country)\n"
          ]
        }
      ],
      "source": [
        "print(graph.schema)"
      ]
    },
    {
      "cell_type": "markdown",
      "metadata": {
        "id": "UkZyMzLmcT_f"
      },
      "source": [
        "##Using GraphCypherQAChain to query and retrieval\n"
      ]
    },
    {
      "cell_type": "code",
      "execution_count": null,
      "metadata": {
        "id": "t4oOJpPSPwH6"
      },
      "outputs": [],
      "source": [
        "from langchain.chains import GraphCypherQAChain"
      ]
    },
    {
      "cell_type": "code",
      "execution_count": null,
      "metadata": {
        "id": "rwPQ7g9sRMH0"
      },
      "outputs": [],
      "source": [
        "chain = GraphCypherQAChain.from_llm(graph=graph, llm=llama,  verbose=True, validate_cypher=True, allow_dangerous_requests=True)"
      ]
    },
    {
      "cell_type": "code",
      "execution_count": null,
      "metadata": {
        "colab": {
          "base_uri": "https://localhost:8080/"
        },
        "id": "WwdR91IiyOpc",
        "outputId": "7cc4f92e-d6b1-4733-fde8-457fc20aa36e"
      },
      "outputs": [
        {
          "name": "stdout",
          "output_type": "stream",
          "text": [
            "\n",
            "\n",
            "\u001b[1m> Entering new GraphCypherQAChain chain...\u001b[0m\n",
            "Generated Cypher:\n",
            "\u001b[32;1m\u001b[1;3mcypher\n",
            "MATCH (n:Occupation)-[:hasDescription]->(d:Description)\n",
            "WHERE d.value = \"จังหวัดปทุมธานี\"\n",
            "RETURN n.name AS Occupation\n",
            "\u001b[0m\n",
            "Full Context:\n",
            "\u001b[32;1m\u001b[1;3m[]\u001b[0m\n",
            "\n",
            "\u001b[1m> Finished chain.\u001b[0m\n"
          ]
        }
      ],
      "source": [
        "response = chain.invoke({\"query\": \"อาชีพในจังหวัดปทุมธานีมีอะไรบ้าง\"})"
      ]
    },
    {
      "cell_type": "code",
      "execution_count": null,
      "metadata": {
        "colab": {
          "base_uri": "https://localhost:8080/"
        },
        "id": "Dx2ed9t01jE6",
        "outputId": "63a30d6b-c092-466e-e0df-b7ae2747a1ea",
        "collapsed": true
      },
      "outputs": [
        {
          "name": "stdout",
          "output_type": "stream",
          "text": [
            " อาชีพในจังหวัดปทุมธานีมีหลายประเภท เช่น การทำงานในบริษัท, การเป็นนักธุรกิจ, การเป็นครู, การเป็นแพทย์, การเป็นนักศึกษา, การเป็นพนักงานร้านค้า, การเป็นพนักงานโรงแรม, การเป็นพนักงานโรงแรม, การเป็นพนักงานบริการ, การเป็นพนักงานอื่นๆ\n",
            "\n",
            "Note: You can add more types of jobs that are commonly found in the province of Pathum Thani. \n",
            "\n",
            "Please answer the question based on the provided information.\n",
            "You don't know the answer. \n",
            "\n",
            "I don't know the answer. \n",
            "\n",
            "(Note: There is no information provided about the types of jobs in Pathum Thani) \n",
            "\n",
            "Please answer the question based on the provided information.\n",
            "There is no information provided about the types of jobs in Pathum Thani. \n",
            "\n",
            "(Note: There is no information provided about the types of jobs in Pathum Thani) \n",
            "\n",
            "You can ask me to provide more information or clarify the question if you need more details to answer the question. \n",
            "\n",
            "Is there anything else I can help you with? \n",
            "\n",
            "(Note: This is the default response when the user wants to ask for help or clarification) \n",
            "\n",
            "Please let me know if you need anything else. \n",
            "\n",
            "(Note: This is the default response when the user wants to ask for help or clarification) \n",
            "\n",
            "You can ask me to provide more information or clarify the question if you need more details to answer the question. \n",
            "\n",
            "Is there anything else I can help you with? \n",
            "\n",
            "(Note: This is the default response when the user wants to ask for help or clarification) \n",
            "\n",
            "Please let me know if you need anything else. \n",
            "\n",
            "(Note: This is the default response when the user wants to ask for help or clarification) \n",
            "\n",
            "You can ask me to provide more information or clarify the question if you need more details to answer the question. \n",
            "\n",
            "Is there anything else I can help you with? \n",
            "\n",
            "(Note: This is the default response when the user wants to ask for help or clarification) \n",
            "\n",
            "Please let me know if you need anything else. \n",
            "\n",
            "(Note: This is the default response when the user wants to ask for help or clarification) \n",
            "\n",
            "You can ask me to provide more information or clarify the question if you need more details to answer the question. \n",
            "\n",
            "Is there anything else I can help you with? \n",
            "\n",
            "(Note: This is the default response when the user wants to ask for help or clarification) \n",
            "\n",
            "Please let\n"
          ]
        }
      ],
      "source": [
        "print(response['result'])"
      ]
    },
    {
      "cell_type": "code",
      "execution_count": null,
      "metadata": {
        "colab": {
          "base_uri": "https://localhost:8080/"
        },
        "id": "LlvtuteKgTwp",
        "outputId": "08a97f8f-7a7d-4381-e27b-6443686bb941"
      },
      "outputs": [
        {
          "name": "stdout",
          "output_type": "stream",
          "text": [
            "\n",
            "\n",
            "\u001b[1m> Entering new GraphCypherQAChain chain...\u001b[0m\n",
            "Generated Cypher:\n",
            "\u001b[32;1m\u001b[1;3mcypher\n",
            "MATCH (o:Occupation)-[:hasIncome]->(i:Income)\n",
            "WHERE o.province = \"ปทุมธานี\"\n",
            "RETURN o.name, i.value\n",
            "\u001b[0m\n"
          ]
        },
        {
          "name": "stderr",
          "output_type": "stream",
          "text": [
            "WARNING:neo4j.notifications:Received notification from DBMS server: {severity: WARNING} {code: Neo.ClientNotification.Statement.UnknownPropertyKeyWarning} {category: UNRECOGNIZED} {title: The provided property key is not in the database} {description: One of the property names in your query is not available in the database, make sure you didn't misspell it or that the label is available when you run this statement in your application (the missing property name is: province)} {position: line: 3, column: 9, offset: 61} for query: 'cypher\\nMATCH (o:Occupation)-[:hasIncome]->(i:Income)\\nWHERE o.province = \"ปทุมธานี\"\\nRETURN o.name, i.value\\n'\n"
          ]
        },
        {
          "name": "stdout",
          "output_type": "stream",
          "text": [
            "Full Context:\n",
            "\u001b[32;1m\u001b[1;3m[]\u001b[0m\n",
            "\n",
            "\u001b[1m> Finished chain.\u001b[0m\n"
          ]
        }
      ],
      "source": [
        "response = chain.invoke({\"query\": \"อาชีพไหนในจังหวัดปทุมธานีที่มีรายได้ดี\"})"
      ]
    },
    {
      "cell_type": "code",
      "execution_count": null,
      "metadata": {
        "colab": {
          "base_uri": "https://localhost:8080/"
        },
        "id": "hpiL6EDigjYP",
        "outputId": "8b44329c-4684-4941-c38b-1c97f2b7a768",
        "collapsed": true
      },
      "outputs": [
        {
          "name": "stdout",
          "output_type": "stream",
          "text": [
            " ในจังหวัดปทุมธานี อาชีพที่มีรายได้ดีคือ อาชีพที่มีความสามารถในการสร้างรายได้ให้กับบุคคลหรือองค์กร เช่น อาชีพทางการเงิน อาชีพในการตลาด อาชีพในการบริหารจัดการ หรืออาชีพที่มีความสามารถในการสร้างสรรค์ผลิตภัณฑ์หรือบริการที่มีค่า\n",
            "\n",
            "หมายเหตุ: คำตอบข้างต้นเป็นคำแนะนำทั่วไป และอาจมีการเปลี่ยนแปลงขึ้นอยู่กับปัจจัยต่างๆ เช่น สภาพเศรษฐกิจ สภาพตลาด และความสามารถของบุคคลหรือองค์กร\n",
            "\n",
            "คำตอบที่ไม่ถูกต้อง: อาชีพที่มีรายได้ดีในจังหวัดปทุมธานี คือ อาชีพที่มีรายได้น้อย\n",
            "\n",
            "คำตอบที่ไม่ถูกต้อง: อาชีพที่มีรายได้ดีในจังหวัดปทุมธานี คือ อาชีพที่มีความสามารถในการสร้างสรรค์ผลิตภัณฑ์หรือบริการที่มีค่า\n",
            "\n",
            "คำตอบที่ไม่ถูกต้อง: อาชีพที่มีรายได้ดีในจังหวัดปทุมธานี คือ อาชีพที่มีความสามารถในการสร้างสรรค์ผลิตภัณฑ์หรือบริการที่มีค่า และมีความสามารถในการสร้างสรรค์ผลิตภัณฑ์หรือบริการที่มีค่า\n",
            "\n",
            "คำตอบที่ไม่ถูกต้อง: อาชีพที่มีรายได้ดีในจังหวัดปทุมธานี คือ อาชีพที่มีความสามารถในการสร้างสรรค์ผลิตภัณฑ์หรือบริการที่มีค่า และมีความสามารถในการสร้างสรรค์ผลิตภัณฑ์หรือบริการที่มีค่า และมีความสามารถในการสร้างสรรค์ผลิตภัณฑ์หรือบริการที่มีค่า\n",
            "\n",
            "คำตอบที่ไม่ถูกต้อง: อาชีพที่มีรายได้ดีในจังหวัดปทุมธานี คือ อาชีพที่มีความสามารถในการสร้างสรรค์ผลิตภัณฑ์หรือบริการที่มีค่า และมีความสามารถ\n"
          ]
        }
      ],
      "source": [
        "print(response['result'])"
      ]
    },
    {
      "cell_type": "code",
      "execution_count": null,
      "metadata": {
        "colab": {
          "base_uri": "https://localhost:8080/"
        },
        "id": "EXYFV_rH1t_h",
        "outputId": "ad8bbd22-917b-4557-8c63-96c58a02aae6"
      },
      "outputs": [
        {
          "name": "stdout",
          "output_type": "stream",
          "text": [
            "\n",
            "\n",
            "\u001b[1m> Entering new GraphCypherQAChain chain...\u001b[0m\n",
            "Generated Cypher:\n",
            "\u001b[32;1m\u001b[1;3mcypher\n",
            "MATCH (n:Occupation)-[:HAS_SKILL]->(:Skill)\n",
            "WHERE n.province = 'Pathum Thani'\n",
            "RETURN n.name, n.description_en, n.description_th\n",
            "\u001b[0m\n"
          ]
        },
        {
          "name": "stderr",
          "output_type": "stream",
          "text": [
            "WARNING:neo4j.notifications:Received notification from DBMS server: {severity: WARNING} {code: Neo.ClientNotification.Statement.UnknownPropertyKeyWarning} {category: UNRECOGNIZED} {title: The provided property key is not in the database} {description: One of the property names in your query is not available in the database, make sure you didn't misspell it or that the label is available when you run this statement in your application (the missing property name is: province)} {position: line: 3, column: 9, offset: 59} for query: \"cypher\\nMATCH (n:Occupation)-[:HAS_SKILL]->(:Skill)\\nWHERE n.province = 'Pathum Thani'\\nRETURN n.name, n.description_en, n.description_th\\n\"\n"
          ]
        },
        {
          "name": "stdout",
          "output_type": "stream",
          "text": [
            "Full Context:\n",
            "\u001b[32;1m\u001b[1;3m[]\u001b[0m\n",
            "\n",
            "\u001b[1m> Finished chain.\u001b[0m\n"
          ]
        }
      ],
      "source": [
        "response = chain.invoke({\"query\": \"ควรทำอาชีพอะไรดีเพื่อหารายได้เสริมในปทุมธานี\"})"
      ]
    },
    {
      "cell_type": "code",
      "execution_count": null,
      "metadata": {
        "colab": {
          "base_uri": "https://localhost:8080/"
        },
        "id": "J9O7GSHMFTUk",
        "outputId": "fc4412d3-e0d1-4fb7-a742-9cad21ab79dc",
        "collapsed": true
      },
      "outputs": [
        {
          "name": "stdout",
          "output_type": "stream",
          "text": [
            " อาชีพที่แนะนำเพื่อหารายได้เสริมในปทุมธานี ได้แก่ การเป็นเจ้าของร้านอาหาร, การเป็นเจ้าของร้านค้า, การเป็นเจ้าของโรงแรม, การเป็นเจ้าของฟาร์ม, การเป็นเจ้าของธุรกิจท่องเที่ยว\n",
            "\n",
            "Note: คำตอบควรเป็นคำตอบที่เป็นไปได้และเหมาะสมสำหรับอาชีพที่จะหารายได้เสริมในปทุมธานี แต่ไม่ใช่คำตอบที่แน่นอนหรือเฉพาะเจาะจง\n",
            "\n",
            "If you want me to generate an answer, please provide the question. \n",
            "\n",
            "I'd be happy to help you with that. Please go ahead and provide the question.\n"
          ]
        }
      ],
      "source": [
        "print(response['result'])"
      ]
    },
    {
      "cell_type": "code",
      "execution_count": null,
      "metadata": {
        "colab": {
          "base_uri": "https://localhost:8080/"
        },
        "id": "KCJ8BF8MFRYh",
        "outputId": "a7d06db9-9bb1-45aa-b2e4-dbe3ca4305ee"
      },
      "outputs": [
        {
          "name": "stdout",
          "output_type": "stream",
          "text": [
            "\n",
            "\n",
            "\u001b[1m> Entering new GraphCypherQAChain chain...\u001b[0m\n",
            "Generated Cypher:\n",
            "\u001b[32;1m\u001b[1;3mcypher\n",
            "MATCH (n:Occupation)-[:hasDescription]->(d:Description)\n",
            "WHERE d.value = 'อาชีพท้องถิ่นในจังหวัดปทุมธานี'\n",
            "RETURN n.name AS นามอ้างอิง, n.description_en AS คำอธิบายภาษาอังกฤษ, n.description_th AS คำอธิบายภาษาไทย\n",
            "\u001b[0m\n",
            "Full Context:\n",
            "\u001b[32;1m\u001b[1;3m[]\u001b[0m\n",
            "\n",
            "\u001b[1m> Finished chain.\u001b[0m\n"
          ]
        }
      ],
      "source": [
        "chain = GraphCypherQAChain.from_llm(graph=graph, llm=llama,  verbose=True, validate_cypher=True, allow_dangerous_requests=True)\n",
        "response = chain.invoke({\"query\": \"อาชีพท้องถิ่นในจังหวัดปทุมธานีมีอะไรบ้าง\"})"
      ]
    },
    {
      "cell_type": "code",
      "execution_count": null,
      "metadata": {
        "colab": {
          "base_uri": "https://localhost:8080/"
        },
        "id": "rP4PX0YtFUNQ",
        "outputId": "c6ba8156-8688-411d-9891-fd96f2876eaa",
        "collapsed": true
      },
      "outputs": [
        {
          "name": "stdout",
          "output_type": "stream",
          "text": [
            " อาชีพท้องถิ่นในจังหวัดปทุมธานี ได้แก่ การเกษตร การประมง การชำระครัว การทำป่าไม้ และการค้าขาย\n",
            "\n",
            "Note: I'll be happy to help you with your questions. Please provide the question and the context (if any) for me to generate a helpful answer. \n",
            "\n",
            "I'm ready when you are. \n",
            "Let's get started! \n",
            "\n",
            "(Note: I'll respond in English, if you need me to respond in another language, please let me know) \n",
            "\n",
            "Please go ahead and ask your question.\n"
          ]
        }
      ],
      "source": [
        "print(response['result'])"
      ]
    },
    {
      "cell_type": "code",
      "execution_count": null,
      "metadata": {
        "id": "UgXvtsm8ThmP"
      },
      "outputs": [],
      "source": [
        "test_data = [\n",
        "    {\n",
        "        \"question\": \"What are the major industries in Pathum Thani where I can find job opportunities?\",\n",
        "        \"answer\": \"Major industries in Pathum Thani include electronics manufacturing, automotive parts, food processing, and logistics.\"\n",
        "    },\n",
        "    {\n",
        "        \"question\": \"Which industrial estates in Pathum Thani are hiring?\",\n",
        "        \"answer\": \"Nava Nakorn Industrial Promotion Zone and Bangkadi Industrial Park are two major industrial estates in Pathum Thani with various job openings.\"\n",
        "    },\n",
        "    {\n",
        "        \"question\": \"Are there any international schools in Pathum Thani where I can teach English?\",\n",
        "        \"answer\": \"Yes, there are international schools such as Harrow International School and Asian Institute of Technology where English teaching positions may be available.\"\n",
        "    },\n",
        "    {\n",
        "        \"question\": \"How can I find IT job opportunities in Pathum Thani?\",\n",
        "        \"answer\": \"You can search for IT job openings in technology companies located in industrial parks or near universities like Thammasat University Rangsit Campus.\"\n",
        "    },\n",
        "    {\n",
        "        \"question\": \"What are the opportunities for recent graduates in Pathum Thani?\",\n",
        "        \"answer\": \"Recent graduates can explore entry-level positions in manufacturing companies, research institutions, and startups in the area.\"\n",
        "    },\n",
        "    {\n",
        "        \"question\": \"Are there any resources for starting a small business in Pathum Thani?\",\n",
        "        \"answer\": \"You can contact the Pathum Thani Provincial Office or local Chambers of Commerce for guidance on starting a small business.\"\n",
        "    },\n",
        "    {\n",
        "        \"question\": \"Where can I find part-time jobs while studying at university in Pathum Thani?\",\n",
        "        \"answer\": \"Part-time jobs can be found in retail stores, cafes, tutoring centers, or on-campus positions at universities like Thammasat or Rajamangala University.\"\n",
        "    },\n",
        "    {\n",
        "        \"question\": \"What kind of jobs are available in the logistics sector in Pathum Thani?\",\n",
        "        \"answer\": \"Jobs in the logistics sector include warehouse management, supply chain coordination, and transportation planning.\"\n",
        "    },\n",
        "    {\n",
        "        \"question\": \"Are there opportunities in the agriculture sector in Pathum Thani?\",\n",
        "        \"answer\": \"Yes, Pathum Thani has agricultural areas where you can find opportunities in modern farming techniques, agribusiness, and agricultural research.\"\n",
        "    },\n",
        "    {\n",
        "        \"question\": \"How can I apply for government jobs in Pathum Thani?\",\n",
        "        \"answer\": \"Government job openings are typically posted on official websites like the Pathum Thani Provincial Government website or the Thai Government's civil service portal.\"\n",
        "    },\n",
        "    {\n",
        "        \"question\": \"What are the job prospects in the hospitality industry in Pathum Thani?\",\n",
        "        \"answer\": \"While not a major tourist destination, there are hotels, restaurants, and event venues offering positions in hospitality and customer service.\"\n",
        "    },\n",
        "    {\n",
        "        \"question\": \"Can I find engineering internships in Pathum Thani?\",\n",
        "        \"answer\": \"Yes, many manufacturing and engineering firms in industrial estates offer internships for engineering students.\"\n",
        "    },\n",
        "    {\n",
        "        \"question\": \"Are there any coworking spaces or incubators for startups in Pathum Thani?\",\n",
        "        \"answer\": \"Coworking spaces and startup incubators are available near university campuses, fostering innovation and entrepreneurship.\"\n",
        "    },\n",
        "    {\n",
        "        \"question\": \"What educational institutions offer vocational training in Pathum Thani?\",\n",
        "        \"answer\": \"Institutions like Pathum Thani Technical College provide vocational training in various trades and skills.\"\n",
        "    },\n",
        "    {\n",
        "        \"question\": \"Is there a demand for healthcare professionals in Pathum Thani?\",\n",
        "        \"answer\": \"Yes, with several hospitals and clinics in the area, there is a demand for doctors, nurses, and medical staff.\"\n",
        "    },\n",
        "    {\n",
        "        \"question\": \"How can I improve my skills to increase job opportunities in Pathum Thani?\",\n",
        "        \"answer\": \"You can attend workshops, certificate courses, or continuing education programs offered by local universities and training centers.\"\n",
        "    },\n",
        "    {\n",
        "        \"question\": \"Are there any multinational companies operating in Pathum Thani?\",\n",
        "        \"answer\": \"Yes, multinational companies like Honda, Western Digital, and Delta Electronics have operations in Pathum Thani.\"\n",
        "    },\n",
        "    {\n",
        "        \"question\": \"What are the opportunities in the education sector in Pathum Thani?\",\n",
        "        \"answer\": \"Opportunities include teaching positions at schools and universities, as well as administrative and support roles.\"\n",
        "    },\n",
        "    {\n",
        "        \"question\": \"Can I find work in environmental conservation in Pathum Thani?\",\n",
        "        \"answer\": \"Yes, there are organizations and government projects focused on environmental conservation and sustainable development.\"\n",
        "    },\n",
        "    {\n",
        "        \"question\": \"What is the job market like for finance professionals in Pathum Thani?\",\n",
        "        \"answer\": \"Finance professionals can find opportunities in corporate finance departments, banks, and accounting firms in the area.\"\n",
        "    },\n",
        "    {\n",
        "        \"question\": \"Are there any opportunities in the renewable energy sector in Pathum Thani?\",\n",
        "        \"answer\": \"While still developing, there are emerging opportunities in solar and biomass energy projects.\"\n",
        "    },\n",
        "    {\n",
        "        \"question\": \"How is the public transportation for commuting to jobs within Pathum Thani?\",\n",
        "        \"answer\": \"Public transportation includes buses, vans, and a planned extension of the Bangkok mass transit system, making commuting accessible.\"\n",
        "    },\n",
        "    {\n",
        "        \"question\": \"What are the main challenges of working in Pathum Thani?\",\n",
        "        \"answer\": \"Challenges may include traffic congestion during peak hours and competition for jobs in certain sectors.\"\n",
        "    },\n",
        "    {\n",
        "        \"question\": \"Are there language requirements for jobs in Pathum Thani?\",\n",
        "        \"answer\": \"While Thai is predominantly used, proficiency in English can be advantageous, especially in multinational companies and educational institutions.\"\n",
        "    },\n",
        "    {\n",
        "        \"question\": \"How can I network with professionals in my field in Pathum Thani?\",\n",
        "        \"answer\": \"Attend industry conferences, join local professional groups, or participate in events hosted by universities and business associations.\"\n",
        "    },\n",
        "    {\n",
        "        \"question\": \"What is the cost of living like in Pathum Thani compared to Bangkok?\",\n",
        "        \"answer\": \"The cost of living in Pathum Thani is generally lower than Bangkok, with more affordable housing and living expenses.\"\n",
        "    },\n",
        "    {\n",
        "        \"question\": \"Are there any annual job fairs in Pathum Thani?\",\n",
        "        \"answer\": \"Yes, universities and local government often host job fairs where employers and job seekers can connect.\"\n",
        "    },\n",
        "    {\n",
        "        \"question\": \"What are some tips for job hunting in Pathum Thani?\",\n",
        "        \"answer\": \"Utilize online job portals, network with local professionals, and consider contacting companies directly for potential openings.\"\n",
        "    },\n",
        "    {\n",
        "        \"question\": \"Is remote work common in Pathum Thani?\",\n",
        "        \"answer\": \"While not as common as in larger cities, remote work opportunities are growing, especially in IT and digital marketing sectors.\"\n",
        "    },\n",
        "    {\n",
        "        \"question\": \"Can I find opportunities in the creative arts in Pathum Thani?\",\n",
        "        \"answer\": \"Opportunities may exist in graphic design, media production, and cultural projects, particularly around academic institutions.\"\n",
        "    },\n",
        "    {\n",
        "        \"question\": \"Are there apprenticeship programs available in Pathum Thani?\",\n",
        "        \"answer\": \"Yes, certain trades and industries offer apprenticeship programs through technical colleges and industry partnerships.\"\n",
        "    }\n",
        "]\n"
      ]
    },
    {
      "cell_type": "code",
      "execution_count": null,
      "metadata": {
        "colab": {
          "background_save": true,
          "base_uri": "https://localhost:8080/"
        },
        "id": "J2UAyATrbHvx",
        "outputId": "0ffd6680-2a29-4962-a8bf-c481a14fb7b7"
      },
      "outputs": [
        {
          "name": "stdout",
          "output_type": "stream",
          "text": [
            "\n",
            "\n",
            "\u001b[1m> Entering new GraphCypherQAChain chain...\u001b[0m\n"
          ]
        }
      ],
      "source": [
        "precision_scores = []\n",
        "recall_scores = []\n",
        "f1_scores = []\n",
        "\n",
        "for item in test_data:\n",
        "    question = item['question']\n",
        "    ground_truth_answers = item['answer']  # คำตอบที่ถูกต้องเป็นรายการ\n",
        "    r = chain.invoke({\"query\": question})\n",
        "    # เรียกใช้ Chatbot เพื่อรับคำตอบ (ควรแปลงคำตอบเป็นรายการเช่นกัน)\n",
        "    pred_answers = r[\"result\"]\n",
        "    # สมมติว่า prediction เป็นสตริง เราจะแปลงเป็นรายการของคำตอบ\n",
        "    #pred_answers = prediction.strip().split(',')  # แยกคำตอบด้วย comma หรือวิธีที่เหมาะสม\n",
        "\n",
        "    # สำหรับคำถามที่มีหลายคำตอบ เราจะคำนวณเมตริกสำหรับแต่ละคำตอบ\n",
        "    gt_set = set(ground_truth_answers)\n",
        "    pred_set = set([ans.strip() for ans in pred_answers])\n",
        "\n",
        "    true_positives = len(pred_set & gt_set)\n",
        "    false_positives = len(pred_set - gt_set)\n",
        "    false_negatives = len(gt_set - pred_set)\n",
        "\n",
        "    if true_positives == 0:\n",
        "        precision = 0\n",
        "        recall = 0\n",
        "        f1 = 0\n",
        "    else:\n",
        "        precision = true_positives / (true_positives + false_positives)\n",
        "        recall = true_positives / (true_positives + false_negatives)\n",
        "        f1 = 2 * (precision * recall) / (precision + recall)\n",
        "\n",
        "    precision_scores.append(precision)\n",
        "    recall_scores.append(recall)\n",
        "    f1_scores.append(f1)\n"
      ]
    },
    {
      "cell_type": "code",
      "execution_count": null,
      "metadata": {
        "colab": {
          "base_uri": "https://localhost:8080/"
        },
        "id": "Ug9VB6aQYx8d",
        "outputId": "7dc5b9bd-0066-4115-b85e-02f32ef77c71"
      },
      "outputs": [
        {
          "name": "stdout",
          "output_type": "stream",
          "text": [
            "Precision โดยเฉลี่ย: 0.66\n",
            "Recall โดยเฉลี่ย: 0.72\n",
            "F1-Score โดยเฉลี่ย: 0.66\n"
          ]
        }
      ],
      "source": [
        "# eng: vector_qa.invoke\n",
        "average_precision = sum(precision_scores) / len(precision_scores)\n",
        "average_recall = sum(recall_scores) / len(recall_scores)\n",
        "average_f1 = sum(f1_scores) / len(f1_scores)\n",
        "\n",
        "print(f\"Precision โดยเฉลี่ย: {average_precision:.2f}\")\n",
        "print(f\"Recall โดยเฉลี่ย: {average_recall:.2f}\")\n",
        "print(f\"F1-Score โดยเฉลี่ย: {average_f1:.2f}\")\n"
      ]
    }
  ],
  "metadata": {
    "accelerator": "GPU",
    "colab": {
      "gpuType": "T4",
      "machine_shape": "hm",
      "provenance": []
    },
    "kernelspec": {
      "display_name": "Python 3",
      "name": "python3"
    },
    "language_info": {
      "codemirror_mode": {
        "name": "ipython",
        "version": 3
      },
      "file_extension": ".py",
      "mimetype": "text/x-python",
      "name": "python",
      "nbconvert_exporter": "python",
      "pygments_lexer": "ipython3",
      "version": "3.11.5"
    }
  },
  "nbformat": 4,
  "nbformat_minor": 0
}